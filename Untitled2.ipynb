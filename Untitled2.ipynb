{
  "nbformat": 4,
  "nbformat_minor": 0,
  "metadata": {
    "colab": {
      "name": "Untitled2.ipynb",
      "provenance": [],
      "include_colab_link": true
    },
    "kernelspec": {
      "name": "python3",
      "display_name": "Python 3"
    }
  },
  "cells": [
    {
      "cell_type": "markdown",
      "metadata": {
        "id": "view-in-github",
        "colab_type": "text"
      },
      "source": [
        "<a href=\"https://colab.research.google.com/github/RohitAgarwal08/LogisticRegression_Student-Admission/blob/master/Untitled2.ipynb\" target=\"_parent\"><img src=\"https://colab.research.google.com/assets/colab-badge.svg\" alt=\"Open In Colab\"/></a>"
      ]
    },
    {
      "cell_type": "code",
      "metadata": {
        "id": "YZbVSnhYoQ41",
        "colab_type": "code",
        "colab": {}
      },
      "source": [
        "import numpy as np\n",
        "import matplotlib.pyplot as plt\n",
        "\n",
        "data = np.loadtxt(\"/content/ex2data1.txt\",delimiter=\",\")\n",
        "data = np.array(data)\n",
        "\n",
        "X = data[:,:-1]\n",
        "Y = data[:,-1:]\n",
        "m,n=X.shape\n",
        "#X=X/100"
      ],
      "execution_count": 0,
      "outputs": []
    },
    {
      "cell_type": "code",
      "metadata": {
        "id": "00MCMzv9yXQV",
        "colab_type": "code",
        "colab": {
          "base_uri": "https://localhost:8080/",
          "height": 279
        },
        "outputId": "137dd66d-4a7d-40c5-ad79-79e3ea13d193"
      },
      "source": [
        "for i in range(m):\n",
        "  if(Y[i]) == 0:\n",
        "    plt.scatter(X[i,0],X[i,1],color=\"yellow\",marker=\"o\")\n",
        "  if(Y[i]) == 1:\n",
        "    plt.scatter(X[i,0],X[i,1],color=\"red\",marker=\"+\")\n",
        "plt.xlabel(\"Exam 1 score\")\n",
        "plt.ylabel(\"Exam 2 score\")\n",
        "plt.show()"
      ],
      "execution_count": 3,
      "outputs": [
        {
          "output_type": "display_data",
          "data": {
            "image/png": "[encoded data removed]",
            "text/plain": [
              "<Figure size 432x288 with 1 Axes>"
            ]
          },
          "metadata": {
            "tags": []
          }
        }
      ]
    },
    {
      "cell_type": "code",
      "metadata": {
        "id": "MrkThEvswkii",
        "colab_type": "code",
        "colab": {}
      },
      "source": [
        "X_bias = np.ones((m,n+1))\n",
        "\n",
        "X_mean=np.mean(X,axis=0)\n",
        "X_std=np.std(X,axis=0)\n",
        "X_norm = (X - X_mean)/X_std\n",
        "\n",
        "X_bias[:,1:]= X_norm\n",
        "\n",
        "theta = np.zeros((3,1))\n",
        "h1=np.dot(X_bias,theta)\n",
        "h = 1/(1+np.exp(-h1))"
      ],
      "execution_count": 0,
      "outputs": []
    },
    {
      "cell_type": "code",
      "metadata": {
        "id": "hhTTQ_WE94bi",
        "colab_type": "code",
        "colab": {
          "base_uri": "https://localhost:8080/",
          "height": 85
        },
        "outputId": "e3b6a069-13eb-4cd9-c224-eef20d32f2b5"
      },
      "source": [
        "alpha = 1\n",
        "J=0\n",
        "theta = np.zeros((3,1))\n",
        "for i in range(400):\n",
        "  J0=0\n",
        "  J1=0\n",
        "  J2=0\n",
        "  h1=np.dot(X_bias,theta)\n",
        "  h=1/(1+(np.exp(-h1)))\n",
        "  for j in range(m):\n",
        "    J0 = J0 + ((alpha/m) * ((h[j] - Y[j])*X_bias[j,0]))\n",
        "    J1 = J1 + ((alpha/m) * ((h[j] - Y[j])*X_bias[j,1]))\n",
        "    J2 = J2 + ((alpha/m) * ((h[j] - Y[j])*X_bias[j,2]))\n",
        "\n",
        "    J = J + ((-Y[j] * np.log(h[j])) - ((1-Y[j]) * np.log(1-h[j])))\n",
        "  J = (1.0 / m) * J\n",
        "  if(i%100) ==0:\n",
        "    print(J)\n",
        "  theta[0,:] = theta[0,:] -J0\n",
        "  theta[1,:] = theta[1,:] -J1\n",
        "  theta[2,:] = theta[2,:] -J2"
      ],
      "execution_count": 6,
      "outputs": [
        {
          "output_type": "stream",
          "text": [
            "[0.69314718]\n",
            "[0.21243198]\n",
            "[0.2069436]\n",
            "[0.20591328]\n"
          ],
          "name": "stdout"
        }
      ]
    },
    {
      "cell_type": "code",
      "metadata": {
        "id": "yqPEVlgpIG4a",
        "colab_type": "code",
        "colab": {
          "base_uri": "https://localhost:8080/",
          "height": 299
        },
        "outputId": "e6370da8-836d-48c7-9759-deffbfd01fe1"
      },
      "source": [
        "X=X_norm\n",
        "pos , neg = (Y==1).reshape(100,1) , (Y==0).reshape(100,1)\n",
        "plt.scatter(X[pos[:,0],0],X[pos[:,0],1],c=\"r\",marker=\"+\",label=\"Admitted\")\n",
        "plt.scatter(X[neg[:,0],0],X[neg[:,0],1],c=\"b\",marker=\"x\",label=\"Not admitted\")\n",
        "x_value= np.array([np.min(X[:,1]),np.max(X[:,1])])\n",
        "y_value=-(theta[0] +theta[1]*x_value)/theta[2]\n",
        "plt.plot(x_value,y_value, \"r\")\n",
        "plt.xlabel(\"Exam 1 score\")\n",
        "plt.ylabel(\"Exam 2 score\")\n",
        "plt.legend(loc=0)"
      ],
      "execution_count": 7,
      "outputs": [
        {
          "output_type": "execute_result",
          "data": {
            "text/plain": [
              "<matplotlib.legend.Legend at 0x7fa7b8d4a4e0>"
            ]
          },
          "metadata": {
            "tags": []
          },
          "execution_count": 7
        },
        {
          "output_type": "display_data",
          "data": {
            "image/png": "[encoded data removed]",
            "text/plain": [
              "<Figure size 432x288 with 1 Axes>"
            ]
          },
          "metadata": {
            "tags": []
          }
        }
      ]
    },
    {
      "cell_type": "code",
      "metadata": {
        "id": "mPOwpqTt1-Ic",
        "colab_type": "code",
        "colab": {
          "base_uri": "https://localhost:8080/",
          "height": 85
        },
        "outputId": "aaa38648-f0e3-482c-e1f1-9dd8b0b82463"
      },
      "source": [
        "print(theta)\n",
        "x_test = np.array([45,85])\n",
        "x_test = (x_test - X_mean)/X_std\n",
        "x_test = np.append(np.ones(1),x_test)\n",
        "\n",
        "h1=x_test.dot(theta)\n",
        "prob= 1 / (1+(np.exp(-h1)))\n",
        "\n",
        "print(\"For a student with scores 45 and 85, we predict an admission probability of\",prob[0])"
      ],
      "execution_count": 12,
      "outputs": [
        {
          "output_type": "stream",
          "text": [
            "[[1.65947664]\n",
            " [3.8670477 ]\n",
            " [3.60347302]]\n",
            "For a student with scores 45 and 85, we predict an admission probability of 0.7677628875792494\n"
          ],
          "name": "stdout"
        }
      ]
    },
    {
      "cell_type": "code",
      "metadata": {
        "id": "y5pinRTz1i6w",
        "colab_type": "code",
        "colab": {
          "base_uri": "https://localhost:8080/",
          "height": 34
        },
        "outputId": "c36d7800-2d3f-41e5-e4d1-1fb77641fef0"
      },
      "source": [
        "if (prob) >= 0.5 :\n",
        "  print(\"Admitted\")\n",
        "else:\n",
        "  print(\"Not Admitted\")"
      ],
      "execution_count": 13,
      "outputs": [
        {
          "output_type": "stream",
          "text": [
            "Admitted\n"
          ],
          "name": "stdout"
        }
      ]
    }
  ]
}